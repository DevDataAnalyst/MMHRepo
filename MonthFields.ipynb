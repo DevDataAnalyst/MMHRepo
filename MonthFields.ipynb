{
 "cells": [
  {
   "cell_type": "code",
   "execution_count": 7,
   "metadata": {},
   "outputs": [],
   "source": [
    "import pandas as pd\n",
    "import warnings\n",
    "import xlrd\n",
    "import xlwt\n",
    "import glob\n",
    "from datetime import datetime\n",
    "from datetime import timedelta \n",
    "import os\n",
    "from pandas import ExcelWriter\n",
    "glob.glob(\"*.xlsx\")\n",
    "\n",
    "warnings.filterwarnings('ignore')\n"
   ]
  },
  {
   "cell_type": "code",
   "execution_count": 13,
   "metadata": {},
   "outputs": [
    {
     "name": "stdout",
     "output_type": "stream",
     "text": [
      "              Particulars  Total\\nBud  Total\\nTar  Total\\nNew Tar  \\\n",
      "0              Staff Cost  374.579015  320.452787      285.275734   \n",
      "1  Staff Welfare Expenses   15.808860   13.529742       12.024913   \n",
      "2   Manpower Supply Costs   56.350563   48.209601       42.794592   \n",
      "3            Labour costs   22.409089   19.185493       17.025195   \n",
      "4                   Power   15.057513   12.891457       11.439872   \n",
      "\n",
      "   Total Project\\nBud  Total Project\\nTar  Total Project\\nNew Tar  \\\n",
      "0          335.179015          286.962787              254.650613   \n",
      "1           14.998860           12.841242               11.395310   \n",
      "2           55.730563           47.713601               42.341022   \n",
      "3           22.409089           19.185493               17.025195   \n",
      "4           15.057513           12.891457               11.439872   \n",
      "\n",
      "   Total Non Project\\nBud  Total Non Project\\nTar  Total Non Project\\nNew Tar  \\\n",
      "0                   39.40                 33.4900                   30.625121   \n",
      "1                    0.81                  0.6885                    0.629603   \n",
      "2                    0.62                  0.4960                    0.453570   \n",
      "3                    0.00                  0.0000                    0.000000   \n",
      "4                    0.00                  0.0000                    0.000000   \n",
      "\n",
      "   Total M&M Project\\nBud  Total M&M Project \\nTar  \\\n",
      "0              100.072232                85.676624   \n",
      "1                6.909678                 5.915706   \n",
      "2               15.235234                13.043613   \n",
      "3                0.092605                 0.079284   \n",
      "4                2.040425                 1.746906   \n",
      "\n",
      "   Total M&M Project\\nNew Tar  Total BMH Project\\nBud  Total BMH Project\\nTar  \\\n",
      "0                   76.029387               57.022841               48.819982   \n",
      "1                    5.249594                3.405923                2.915974   \n",
      "2                   11.574894                6.963328                5.961638   \n",
      "3                    0.070356                0.108651                0.093021   \n",
      "4                    1.550203                1.020837                0.873987   \n",
      "\n",
      "   Total BMH Project\\nNew Tar  Total MENA Project\\nBud  \\\n",
      "0                   43.322824                36.305793   \n",
      "1                    2.587634                 1.525833   \n",
      "2                    5.290354                10.177476   \n",
      "3                    0.082547                 0.075103   \n",
      "4                    0.775576                 2.503516   \n",
      "\n",
      "   Total MENA Project\\nTar  Total MENA Project\\nNew Tar  Total_Bud_Apr  \n",
      "0                31.083126                    27.583148      31.214918  \n",
      "1                 1.306339                     1.159244       1.317405  \n",
      "2                 8.713424                     7.732288       4.695880  \n",
      "3                 0.064299                     0.057059       1.867424  \n",
      "4                 2.143380                     1.902034       1.254793  \n"
     ]
    }
   ],
   "source": [
    "for f in glob.glob(\"Raw/*.xlsx\"):\n",
    "    xls = pd.ExcelFile(f)\n",
    "    df1 = xls.parse(sheet_name=0)\n",
    "   \n",
    "    df1['Total_Bud_Apr'] = df1['Total\\nBud']/12\n",
    "    print(df1.head())\n",
    "    \"\"\"\n",
    "    writer = ExcelWriter('Clean/Monthly_'+f[4:])\n",
    "    df1.to_excel(writer,sheet_name='Budget_Monthly',index=False)\n",
    "    writer.save()    \n",
    "    \"\"\"\n"
   ]
  },
  {
   "cell_type": "code",
   "execution_count": 11,
   "metadata": {},
   "outputs": [
    {
     "data": {
      "text/plain": [
       "Index(['Particulars', 'Total\\nBud', 'Total\\nTar', 'Total\\nNew Tar',\n",
       "       'Total Project\\nBud', 'Total Project\\nTar', 'Total Project\\nNew Tar',\n",
       "       'Total Non Project\\nBud', 'Total Non Project\\nTar',\n",
       "       'Total Non Project\\nNew Tar', 'Total M&M Project\\nBud',\n",
       "       'Total M&M Project \\nTar', 'Total M&M Project\\nNew Tar',\n",
       "       'Total BMH Project\\nBud', 'Total BMH Project\\nTar',\n",
       "       'Total BMH Project\\nNew Tar', 'Total MENA Project\\nBud',\n",
       "       'Total MENA Project\\nTar', 'Total MENA Project\\nNew Tar'],\n",
       "      dtype='object')"
      ]
     },
     "execution_count": 11,
     "metadata": {},
     "output_type": "execute_result"
    }
   ],
   "source": [
    "df1.columns"
   ]
  },
  {
   "cell_type": "code",
   "execution_count": null,
   "metadata": {},
   "outputs": [],
   "source": []
  }
 ],
 "metadata": {
  "kernelspec": {
   "display_name": "Python 3",
   "language": "python",
   "name": "python3"
  },
  "language_info": {
   "codemirror_mode": {
    "name": "ipython",
    "version": 3
   },
   "file_extension": ".py",
   "mimetype": "text/x-python",
   "name": "python",
   "nbconvert_exporter": "python",
   "pygments_lexer": "ipython3",
   "version": "3.7.6"
  }
 },
 "nbformat": 4,
 "nbformat_minor": 4
}
